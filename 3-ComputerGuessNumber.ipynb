{
 "cells": [
  {
   "cell_type": "markdown",
   "metadata": {},
   "source": [
    "Aklımızdan bir değer tutalım. Daha sonra bilgisayarın bunu bilmesini sağlayalım."
   ]
  },
  {
   "cell_type": "code",
   "execution_count": null,
   "metadata": {},
   "outputs": [],
   "source": [
    "import random\n",
    "\n",
    "def computer_guess(x):\n",
    "    start = 1\n",
    "    end = 100\n",
    "    result = \"\"\n",
    "    while result != \"d\":\n",
    "        guess = random.randint(start, end)\n",
    "\n",
    "        result = input(f\"{guess} değeri aklından tuttuğun değerden büyükse(b) küçükse (k), doğruysa (d) giriniz.\").lower()\n",
    "        if result == \"b\":\n",
    "            end = guess - 1\n",
    "        elif result == \"k\":\n",
    "            start = guess + 1\n",
    "    print(\"Tebrikler, doğru tahmin\")\n",
    "    \n",
    "computer_guess(19)"
   ]
  }
 ],
 "metadata": {
  "kernelspec": {
   "display_name": "Python 3.10.7 64-bit",
   "language": "python",
   "name": "python3"
  },
  "language_info": {
   "name": "python",
   "version": "3.10.7"
  },
  "orig_nbformat": 4,
  "vscode": {
   "interpreter": {
    "hash": "fa8af0cc1927a15d37d0c6a05a578f184341335e7f035027322b44b8322fd6ef"
   }
  }
 },
 "nbformat": 4,
 "nbformat_minor": 2
}
