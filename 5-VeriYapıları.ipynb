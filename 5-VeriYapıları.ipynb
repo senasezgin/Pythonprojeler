{
 "cells": [
  {
   "cell_type": "markdown",
   "metadata": {},
   "source": [
    "1-Soru: 0 - 20 arasında karışık sırada sayıları tutan bir listenizin olduğunu düşünün. Bu liste içerisinde n tane sayı eksik. n ve eksik sayıları bulunuz.\n",
    "\n",
    "Örnek: my_list = [0, 7, 5, 8, 2] -> 0-10 arasında\n",
    "\n",
    "6 adet sayı eksiktir. Eksik olan sayılar [1, 3, 4, 6, 9, 10]"
   ]
  },
  {
   "cell_type": "code",
   "execution_count": 1,
   "metadata": {},
   "outputs": [
    {
     "name": "stdout",
     "output_type": "stream",
     "text": [
      "[3, 6, 20, 5, 17, 2, 12, 7, 0, 16, 11, 18, 9, 19, 14, 10, 1, 13, 15, 8, 4]\n",
      "[9, 15, 11, 1, 0, 7]\n",
      "[3, 6, 20, 5, 17, 2, 12, 16, 18, 19, 14, 10, 13, 8, 4]\n"
     ]
    }
   ],
   "source": [
    "#listeyi hazırlama\n",
    "import random\n",
    "\n",
    "my_list = [i for i in range(0, 21)]\n",
    "random.shuffle(my_list)\n",
    "\n",
    "#1. yol\n",
    "remove_list = random.sample(my_list, 6)\n",
    "\n",
    "print(my_list)\n",
    "print(remove_list)\n",
    "\n",
    "for i in remove_list:\n",
    "    my_list.remove(i)\n",
    "\n",
    "#2.yol\n",
    "#del my_list[0:6]\n",
    "\n",
    "print(my_list)\n",
    "\n",
    " "
   ]
  },
  {
   "cell_type": "code",
   "execution_count": 3,
   "metadata": {},
   "outputs": [
    {
     "name": "stdout",
     "output_type": "stream",
     "text": [
      "Listemiz içerisinde 6 tane sayı eksiktir. Eksik olan sayılar [0, 7, 9, 14, 18, 20]\n"
     ]
    }
   ],
   "source": [
    "#1.çözüm\n",
    "my_list = [15, 13, 11, 16, 5, 3, 19, 2, 6, 12, 1, 8, 4, 10, 17]\n",
    "\n",
    "missing_list = []\n",
    "for i in range(0, 21):\n",
    "    if i not in my_list:\n",
    "        missing_list.append(i)\n",
    "\n",
    "print(f\"Listemiz içerisinde {len(missing_list)} tane sayı eksiktir. Eksik olan sayılar {missing_list}\")"
   ]
  },
  {
   "cell_type": "code",
   "execution_count": 2,
   "metadata": {},
   "outputs": [
    {
     "name": "stdout",
     "output_type": "stream",
     "text": [
      "Listemiz içerisinde 6 tane sayı eksiktir. Eksik olan sayılar {0, 7, 9, 14, 18, 20}\n"
     ]
    }
   ],
   "source": [
    "#2.çözüm\n",
    "my_list = [15, 13, 11, 16, 5, 3, 19, 2, 6, 12, 1, 8, 4, 10, 17]\n",
    "\n",
    "my_set = {i for i in range(0,21)}\n",
    "\n",
    "difference_set = my_set - set(my_list)\n",
    "print(f\"Listemiz içerisinde {len(difference_set)} tane sayı eksiktir. Eksik olan sayılar {difference_set}\")"
   ]
  },
  {
   "cell_type": "markdown",
   "metadata": {},
   "source": [
    "2-Soru: 0dan 100e kadar karışık sırada sayıları tutan bir listenizin olduğunu düşünün. Bu liste içerisinde bu defa n tane sayı yerine 1 adet sayı eksik. Eksik olan sayıyı bulunuz."
   ]
  },
  {
   "cell_type": "code",
   "execution_count": 11,
   "metadata": {},
   "outputs": [
    {
     "name": "stdout",
     "output_type": "stream",
     "text": [
      "[1, 2, 3, 4, 5, 6, 7, 8, 9, 10, 11, 12, 13, 14, 15, 16, 17, 18, 19, 20, 21, 22, 23, 24, 25, 26, 27, 28, 29, 30, 31, 32, 33, 34, 35, 36, 37, 38, 39, 40, 41, 42, 43, 44, 45, 46, 47, 48, 49, 50, 51, 52, 53, 54, 55, 56, 57, 58, 59, 60, 61, 62, 63, 64, 65, 66, 67, 68, 69, 70, 71, 72, 73, 74, 75, 76, 77, 78, 79, 80, 81, 82, 83, 84, 85, 86, 87, 88, 89, 90, 91, 92, 93, 94, 95, 96, 97, 98, 99, 100]\n",
      "[56, 88, 6, 91, 13, 85, 38, 20, 30, 70, 58, 7, 25, 47, 53, 99, 89, 86, 82, 32, 17, 96, 5, 80, 48, 78, 35, 19, 61, 74, 76, 40, 41, 79, 10, 100, 26, 45, 8, 98, 87, 97, 9, 39, 77, 73, 66, 95, 51, 59, 52, 33, 42, 44, 46, 75, 92, 27, 67, 57, 24, 1, 83, 16, 28, 49, 90, 62, 11, 12, 15, 65, 21, 55, 2, 71, 36, 69, 93, 23, 63, 34, 94, 43, 22, 50, 54, 64, 68, 29, 4, 81, 14, 3, 31, 84, 72, 18, 60]\n",
      "[37]\n"
     ]
    }
   ],
   "source": [
    "import random\n",
    "my_list = list(range(1,100+1))\n",
    "print(my_list)\n",
    "\n",
    "randomlist = random.sample(range(1, 100+1), 99) #1'den 100'e kadar 99 tane random sayı üreten bir liste\n",
    "print(randomlist)\n",
    "\n",
    "my_set1 =  set(my_list) # my_list'i sete çevirdim\n",
    "\n",
    "my_set2 =  set(randomlist) # randomlist'i sete çevirdim\n",
    "\n",
    "\n",
    "my_set3 = my_set1 - my_set2 # İlk listeden random oluşan listeyi çıkarttım ki olmayan (eksik olan) sayıyı bulabileyim\n",
    "\n",
    "eksik_list = list(my_set3)\n",
    "\n",
    "print(eksik_list)\n"
   ]
  },
  {
   "cell_type": "code",
   "execution_count": 4,
   "metadata": {},
   "outputs": [
    {
     "data": {
      "text/plain": [
       "32.0"
      ]
     },
     "execution_count": 4,
     "metadata": {},
     "output_type": "execute_result"
    }
   ],
   "source": [
    "#Kısayol\n",
    "import random\n",
    "my_list = [i for i in range(0,101)]\n",
    "my_list.remove(random.randint(0,101))\n",
    "random.shuffle(my_list)\n",
    "\n",
    "diff = (100*101)/2 - sum(my_list)\n",
    "diff"
   ]
  },
  {
   "cell_type": "markdown",
   "metadata": {},
   "source": [
    "3-Soru: Bir liste üzerinde sıralama algoritmasını kullanarak listeyi sıralayınız."
   ]
  },
  {
   "cell_type": "code",
   "execution_count": 6,
   "metadata": {},
   "outputs": [
    {
     "name": "stdout",
     "output_type": "stream",
     "text": [
      "[2, 5, 3, 6, 1, 4, 0]\n",
      "[2, 3, 5, 6, 1, 4, 0] - 1\n",
      "[2, 3, 5, 1, 6, 4, 0] - 3\n",
      "[2, 3, 5, 1, 4, 6, 0] - 4\n",
      "[2, 3, 5, 1, 4, 0, 6] - 5\n",
      "[2, 3, 1, 5, 4, 0, 6] - 2\n",
      "[2, 3, 1, 4, 5, 0, 6] - 3\n",
      "[2, 3, 1, 4, 0, 5, 6] - 4\n",
      "[2, 1, 3, 4, 0, 5, 6] - 1\n",
      "[2, 1, 3, 0, 4, 5, 6] - 3\n",
      "[1, 2, 3, 0, 4, 5, 6] - 0\n",
      "[1, 2, 0, 3, 4, 5, 6] - 2\n",
      "[1, 0, 2, 3, 4, 5, 6] - 1\n",
      "[0, 1, 2, 3, 4, 5, 6] - 0\n"
     ]
    }
   ],
   "source": [
    "import random\n",
    "\n",
    "list_length = 7\n",
    "my_list = [i for i in range(0,list_length)]\n",
    "random.shuffle(my_list)\n",
    "\n",
    "print(my_list)\n",
    "\n",
    "#Bubble Sort\n",
    "for i in range(list_length):\n",
    "    for j in range(list_length - 1):#[0,1,2,3,4,..18,19]\n",
    "        if my_list[j] > my_list[j + 1]:\n",
    "            # temp = my_list[j]\n",
    "            # my_list[j] = my_list[j + 1]\n",
    "            # my_list[j + 1] = temp\n",
    "            my_list[j], my_list[j + 1] = my_list[j + 1], my_list[j]\n",
    "            print(my_list, '-', j)\n"
   ]
  },
  {
   "cell_type": "code",
   "execution_count": 13,
   "metadata": {},
   "outputs": [
    {
     "name": "stdout",
     "output_type": "stream",
     "text": [
      "[0, 2, 3, 5, 1, 6, 4] - 0\n",
      "[0, 1, 3, 5, 2, 6, 4] - 1\n",
      "[0, 1, 2, 5, 3, 6, 4] - 2\n",
      "[0, 1, 2, 3, 5, 6, 4] - 3\n",
      "[0, 1, 2, 3, 4, 6, 5] - 4\n",
      "[0, 1, 2, 3, 4, 5, 6] - 5\n",
      "[0, 1, 2, 3, 4, 5, 6] - 6\n"
     ]
    }
   ],
   "source": [
    "#Selection Sort\n",
    "import random\n",
    "\n",
    "list_length = 7\n",
    "my_list = [i for i in range(0,list_length)]\n",
    "random.shuffle(my_list)\n",
    "\n",
    "\n",
    "\n",
    "for outer_index in range(list_length):\n",
    "    current_min_index = outer_index\n",
    "    for inner_index in range(outer_index +  1, list_length):\n",
    "        if my_list[current_min_index] > my_list[inner_index]:\n",
    "            current_min_index = inner_index\n",
    "    \n",
    "    my_list[outer_index], my_list[current_min_index] = my_list[current_min_index], my_list[outer_index]\n",
    "    print(my_list,'-', outer_index)\n"
   ]
  },
  {
   "cell_type": "code",
   "execution_count": null,
   "metadata": {},
   "outputs": [],
   "source": [
    "#İnsertion Sort\n",
    "for outer_index in range(1, list_length):\n",
    "    for inner_index in range(outer_index):\n",
    "        if my_list[outer_index] < my_list[inner_index]:\n",
    "            currentValue = my_list.pop(outer_index)\n",
    "            my_list.insert(inner_index, currentValue)\n",
    "            break\n",
    "    print(my_list, '-', outer_index)\n"
   ]
  },
  {
   "cell_type": "markdown",
   "metadata": {},
   "source": [
    "Fonksiyon bir integer array nums ve bir hedef target değişkeni almalı ve bizlere toplamı target olan indexleri dönmeli.\n",
    "\n",
    "Kurallar: Aynı index’teki değeri iki defa kullanamayız.\n",
    "\n",
    "Örnek\n",
    "Parametreler: nums = [2,7,11,15], target = 9\n",
    "Dönen Değer: [0,1]\n",
    "Açıklama: nums[0] ve nums[1]'deki değerlerin toplamı 9 yaptığı için çıktımız [0, 1] oldu.\n",
    "Örnek\n",
    "Parametreler: nums = [3,2,4], target = 6\n",
    "Dönen Değer: [1,2]\n",
    "Açıklama: nums[1] ve nums[2]'deki değerlerin toplamı 6 yaptığı için çıktımız [1, 2] oldu.\n",
    "Not: Burada [0,0] çıktı olarak kabul edilemez. Çünkü aynı index'i kullanamayacağımız söylenmişti.\n",
    "Örnek\n",
    "Parametreler: nums = [3,2,4,1,3], target = 7\n",
    "Dönen Değer: [2,4]\n",
    "Açıklama: nums[2] ve nums[4]'deki değerlerin toplamı 7 yaptığı için çıktımız [2, 4] oldu."
   ]
  },
  {
   "cell_type": "code",
   "execution_count": 1,
   "metadata": {},
   "outputs": [
    {
     "name": "stdout",
     "output_type": "stream",
     "text": [
      "[-8, -6, -1, -13, -10, 20, 3, 15, -17, -18]\n",
      "None\n"
     ]
    }
   ],
   "source": [
    "import random\n",
    "\n",
    "list_length = 10\n",
    "my_list = [random.randint(-20, 20) for i in range(0,list_length)]\n",
    "\n",
    "print(my_list)\n",
    "\n",
    "def getIndexesOfTarget(nums, target):\n",
    "    for outer_index in range(list_length):\n",
    "        for inner_index in range(outer_index, list_length):\n",
    "            # if inner_index != outer_index and nums[outer_index] + nums[inner_index] == target:\n",
    "                # return [outer_index, inner_index]\n",
    "            if inner_index == outer_index:\n",
    "                continue\n",
    "            elif nums[outer_index] + nums[inner_index] == target:\n",
    "                return [outer_index, inner_index]\n",
    "           \n",
    "print(getIndexesOfTarget(my_list, 13))\n"
   ]
  },
  {
   "cell_type": "code",
   "execution_count": 7,
   "metadata": {},
   "outputs": [],
   "source": [
    "def getIndexesOfTarget(nums, target):\n",
    "    for outerIndex in range(len(nums)): #Listedeki her bir sayıyı tek tek geziyoruz.\n",
    "        for innerIndex in range(len(nums)):#Listedeki her bir sayı için, listedeki her bir sayıyı tek tek geziyoruz.\n",
    "            if outerIndex == innerIndex: #Aynı index'te olan değerleri kullanamayacağımız için aynı indexleri atlıyoruz.\n",
    "                continue\n",
    "            elif nums[outerIndex] + nums[innerIndex] == target:#Eğer şu an üzerinde olduğumuz indexlerdeki sayıların toplamı target'a eşitse bu indexleri return ediyoruz.\n",
    "                return [outerIndex, innerIndex]\n",
    "\n",
    "        print(outerIndex)\n",
    "        print(innerIndex)"
   ]
  },
  {
   "cell_type": "code",
   "execution_count": 2,
   "metadata": {},
   "outputs": [],
   "source": [
    "def getIndexOfTarget(nums,target):\n",
    "    visitedNumbers = {}\n",
    "    for index in range(len(nums)):\n",
    "        remain = target - nums[index]\n",
    "\n",
    "        if remain in visitedNumbers:\n",
    "            return(visitedNumbers[remain], index)\n",
    "\n",
    "    visitedNumbers[nums[index]] = index"
   ]
  }
 ],
 "metadata": {
  "kernelspec": {
   "display_name": "Python 3.10.7 64-bit",
   "language": "python",
   "name": "python3"
  },
  "language_info": {
   "codemirror_mode": {
    "name": "ipython",
    "version": 3
   },
   "file_extension": ".py",
   "mimetype": "text/x-python",
   "name": "python",
   "nbconvert_exporter": "python",
   "pygments_lexer": "ipython3",
   "version": "3.10.7 (tags/v3.10.7:6cc6b13, Sep  5 2022, 14:08:36) [MSC v.1933 64 bit (AMD64)]"
  },
  "orig_nbformat": 4,
  "vscode": {
   "interpreter": {
    "hash": "fa8af0cc1927a15d37d0c6a05a578f184341335e7f035027322b44b8322fd6ef"
   }
  }
 },
 "nbformat": 4,
 "nbformat_minor": 2
}
