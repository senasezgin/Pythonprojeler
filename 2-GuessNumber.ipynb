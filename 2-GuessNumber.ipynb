{
 "cells": [
  {
   "cell_type": "markdown",
   "metadata": {},
   "source": [
    "Bilgisayar 1 ile 100'e arasında random bir değer seçsin. Tahmin etmemiz istensin daha input değerler alalım ve bigisayarın seçtiği sayıyı bulmaya çalışalım. "
   ]
  },
  {
   "cell_type": "code",
   "execution_count": null,
   "metadata": {},
   "outputs": [],
   "source": [
    "from random import randint\n",
    "def guess(number):\n",
    "    user_number = int(input(\" Guess Number oyunu için 1 ile 100 arasında tahminde bulunun \"))\n",
    "    while number != user_number:\n",
    "        if number < user_number:\n",
    "            print(\"üzgünüm daha küçük bir tahminde bulun\")\n",
    "        else:\n",
    "            print(\"üzgünüm, daha büyük bir tahminde bulunmalısın\")\n",
    "        user_number = int(input(\"sayı tahmin oyunu için bir tahminde bulun\"))\n",
    "    else:\n",
    "        print(\"tebrikler,doğru tahmin\")\n",
    "\n",
    "guess(randint(1,100))"
   ]
  },
  {
   "cell_type": "markdown",
   "metadata": {},
   "source": [
    "Aklından Sayı tut Oyunun Fonksiyon kullanmadan yapılan hali"
   ]
  },
  {
   "cell_type": "code",
   "execution_count": null,
   "metadata": {},
   "outputs": [],
   "source": [
    "import random\n",
    "\n",
    "sayi = random.randint(1, 100)\n",
    "\n",
    "while True:\n",
    "  a = int(input(\"1 ile 100 arasında Tahmini sayı giriniz= \"))\n",
    "  if a == sayi:\n",
    "    print(\"Bildiniz tebrikler\")\n",
    "    break\n",
    "  else:\n",
    "    print(\"Bilemediniz.Tekrar deneyiniz\")\n",
    "  "
   ]
  }
 ],
 "metadata": {
  "kernelspec": {
   "display_name": "Python 3.10.7 64-bit",
   "language": "python",
   "name": "python3"
  },
  "language_info": {
   "name": "python",
   "version": "3.10.7 (tags/v3.10.7:6cc6b13, Sep  5 2022, 14:08:36) [MSC v.1933 64 bit (AMD64)]"
  },
  "orig_nbformat": 4,
  "vscode": {
   "interpreter": {
    "hash": "fa8af0cc1927a15d37d0c6a05a578f184341335e7f035027322b44b8322fd6ef"
   }
  }
 },
 "nbformat": 4,
 "nbformat_minor": 2
}
