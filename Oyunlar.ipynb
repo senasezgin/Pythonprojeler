{
 "cells": [
  {
   "cell_type": "markdown",
   "metadata": {},
   "source": [
    "Bilgisayar 1 ile 100'e arasında random bir değer seçsin. Tahmin etmemiz istensin daha input değerler alalım ve bigisayarın seçtiği sayıyı bulmaya çalışalım. "
   ]
  },
  {
   "cell_type": "code",
   "execution_count": null,
   "metadata": {},
   "outputs": [],
   "source": [
    "from random import randint\n",
    "def guess(number):\n",
    "    user_number = int(input(\"sayı tahmin oyunu için bir tahminde bulun\"))\n",
    "    while number != user_number:\n",
    "        if number < user_number:\n",
    "            print(\"üzgünüm daha küçük bir tahminde bulun\")\n",
    "        else:\n",
    "            print(\"üzgünüm, daha büyük bir tahminde bulunmalısın\")\n",
    "        user_number = int(input(\"sayı tahmin oyunu için bir tahminde bulun\"))\n",
    "    else:\n",
    "        print(\"tebrikler,doğru tahmin\")\n",
    "\n",
    "guess(randint(1,100))"
   ]
  },
  {
   "cell_type": "markdown",
   "metadata": {},
   "source": [
    "Aklımızdan bir değer tutalım. Daha sonra bilgisayarın bunu bilmesini sağlayalım."
   ]
  },
  {
   "cell_type": "code",
   "execution_count": null,
   "metadata": {},
   "outputs": [],
   "source": [
    "import random\n",
    "\n",
    "def computer_guess(x):\n",
    "    start = 1\n",
    "    end = 100\n",
    "    result = \"\"\n",
    "    while result != \"d\":\n",
    "        guess = random.randint(start, end)\n",
    "\n",
    "        result = input(f\"{guess} değeri aklından tuttuğun değerden büyükse(b) küçükse (k), doğruysa (d) giriniz.\").lower()\n",
    "        if result == \"b\":\n",
    "            end = guess - 1\n",
    "        elif result == \"k\":\n",
    "            start = guess + 1\n",
    "    print(\"Tebrikler, doğru tahmin\")\n",
    "    \n",
    "computer_guess(19)"
   ]
  },
  {
   "cell_type": "markdown",
   "metadata": {},
   "source": [
    "Taş Kağıt Makas "
   ]
  },
  {
   "cell_type": "code",
   "execution_count": null,
   "metadata": {},
   "outputs": [],
   "source": [
    "import random\n",
    "player_score = computer_score = 0\n",
    "computer_choice = 0\n",
    "def print_result(winner = \"Bilgisayar\"):\n",
    "    print(f\"Bilgisayarın Seçimi: {computer_choice}\\n\\nKazanan: {winner}\")\n",
    "    global player_score, computer_score\n",
    "    if winner == \"Bilgisayar\":\n",
    "        computer_score += 100\n",
    "    else:\n",
    "        player_score += 100\n",
    "print(\"Taş Kağıt Makas Oyununa Hoş geldiniz!\\n\" + \"-\"*37)\n",
    "while True:\n",
    "    print(\"\\n1 - Taş\\n2 - Kağıt \\n3 - Makas\\nOyundan çıkmak isterseniz bu değerler dışında bir değer giriniz\")\n",
    "    player_choice = int(input(\"Seçiminizi yapınız\"))\n",
    "    computer_choice = random.choice([1, 2, 3])\n",
    "    if player_choice == computer_choice:\n",
    "        print(\"Beraber, yeniden oynayınız\")\n",
    "    elif player_choice == 1:\n",
    "        if computer_choice == 2:\n",
    "            print_result()\n",
    "        elif computer_choice == 3:\n",
    "            print_result(\"Kullanıcı\")\n",
    "    elif player_choice == 2:\n",
    "        if computer_choice == 1:\n",
    "            print_result(\"Kullanıcı\")\n",
    "        elif computer_choice == 3:\n",
    "            print_result()\n",
    "    elif player_choice == 3:\n",
    "        if computer_choice == 1:\n",
    "            print_result()\n",
    "        elif computer_choice == 2:\n",
    "            print_result(\"Kullanıcı\")\n",
    "    else:\n",
    "        break\n",
    "print(f\"\\n\\nKullanıcı skoru {player_score} - Bilgisayarın skoru {computer_score}\")\n",
    "if player_score > computer_score: print(\"Kazanan Kullanıcı\")\n",
    "elif player_score < computer_score: print(\"Kazanan Bilgisayar\")\n",
    "else: print(\"Oyun Berabere\")"
   ]
  }
 ],
 "metadata": {
  "kernelspec": {
   "display_name": "Python 3.10.7 64-bit",
   "language": "python",
   "name": "python3"
  },
  "language_info": {
   "codemirror_mode": {
    "name": "ipython",
    "version": 3
   },
   "file_extension": ".py",
   "mimetype": "text/x-python",
   "name": "python",
   "nbconvert_exporter": "python",
   "pygments_lexer": "ipython3",
   "version": "3.10.7"
  },
  "orig_nbformat": 4,
  "vscode": {
   "interpreter": {
    "hash": "fa8af0cc1927a15d37d0c6a05a578f184341335e7f035027322b44b8322fd6ef"
   }
  }
 },
 "nbformat": 4,
 "nbformat_minor": 2
}
